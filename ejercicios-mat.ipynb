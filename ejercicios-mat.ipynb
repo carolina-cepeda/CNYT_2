{
 "cells": [
  {
   "cell_type": "markdown",
   "metadata": {},
   "source": [
    "# Exercises on Complex Vectors and Matrices with Concrete Cases\n",
    "\n",
    "This set of exercises focuses on operations with complex column vectors and complex square matrices, including concrete cases with vectors and matrices written in LaTeX format.\n"
   ]
  },
  {
   "cell_type": "markdown",
   "metadata": {},
   "source": [
    "### Exercise 1: Sum of Two Complex Vectors\n",
    "Given two complex vectors \n",
    "$ v1 = \\begin{bmatrix} 1 + 2i \\\\ 3 - i \\end{bmatrix} $ \n",
    "and \n",
    "$ v2 = \\begin{bmatrix} 2 - i \\\\ 4 + 2i \\end{bmatrix} $, \n",
    "find their sum.\n"
   ]
  },
  {
   "cell_type": "code",
   "execution_count": null,
   "metadata": {},
   "outputs": [],
   "source": [
    "import numpy as np\n",
    "\n",
    "v1= np.array([[1+2j],[3-1j]])\n",
    "v2 = np.array([[2-1j],[4+2j]])\n",
    "sum_v = v1 + v2\n",
    "print (\"\\n Suma de vectores\\n\" )\n",
    "print(v1, \"+\\n\",v2)\n",
    "print(\"resultado:\\n \",sum_v)"
   ]
  },
  {
   "cell_type": "markdown",
   "metadata": {},
   "source": [
    "### Exercise 2: Negation of a Complex Vector\n",
    "Given a complex vector \n",
    "$ v = \\begin{bmatrix} 2 + 3i \\\\ 1 - 2i \\end{bmatrix} $, \n",
    "find its negation."
   ]
  },
  {
   "cell_type": "code",
   "execution_count": 1,
   "metadata": {},
   "outputs": [
    {
     "name": "stdout",
     "output_type": "stream",
     "text": [
      "la negación de\n",
      " [[2.+3.j]\n",
      " [1.-2.j]] es \n",
      " \n",
      " [[-2.-3.j]\n",
      " [-1.+2.j]]\n"
     ]
    }
   ],
   "source": [
    "import numpy as np\n",
    "v= np.array ([[2+3j],[1-2j]])\n",
    "neg_v = -v\n",
    "print(\"la negación de\\n\",v,\"es \\n\", \"\\n\",neg_v)\n"
   ]
  },
  {
   "cell_type": "markdown",
   "metadata": {},
   "source": [
    "### Exercise 3: Multiplication of a Complex Vector by a Scalar\n",
    "Multiply the complex vector \n",
    "$ v = \\begin{bmatrix} 1 - i \\\\ 2 + 2i \\end{bmatrix} $ \n",
    "by the complex scalar $$ 3 + i $$."
   ]
  },
  {
   "cell_type": "code",
   "execution_count": 2,
   "metadata": {},
   "outputs": [
    {
     "name": "stdout",
     "output_type": "stream",
     "text": [
      "la multiplicación escalar de\n",
      " [[1.-1.j]\n",
      " [2.+2.j]] por (3+1j) es \n",
      " \n",
      " [[4.-2.j]\n",
      " [4.+8.j]]\n"
     ]
    }
   ],
   "source": [
    "import numpy as np\n",
    "v= np.array ([[1-1j],[2+2j]])\n",
    "escalar = 3 + 1j\n",
    "mult_escalar = v * escalar\n",
    "print(\"la multiplicación escalar de\\n\",v,\"por\",escalar, \"es \\n\", \"\\n\",mult_escalar)"
   ]
  },
  {
   "cell_type": "markdown",
   "metadata": {},
   "source": [
    "### Exercise 4: Transpose of a Complex Vector\n",
    "Find the transpose of the complex vector \n",
    "$ v = \\begin{bmatrix} 2 - i \\\\ 3 + 4i \\end{bmatrix} $."
   ]
  },
  {
   "cell_type": "code",
   "execution_count": 3,
   "metadata": {},
   "outputs": [
    {
     "name": "stdout",
     "output_type": "stream",
     "text": [
      "la transpuesta de\n",
      " [[2.-1.j]\n",
      " [3.+4.j]] es:\n",
      " [[2.-1.j 3.+4.j]]\n"
     ]
    }
   ],
   "source": [
    "import numpy as np\n",
    "v = np.array([[2-1j],[3+4j]])\n",
    "transpuesta_v = v.T\n",
    "print(\"la transpuesta de\\n\",v,\"es:\\n\",transpuesta_v)"
   ]
  },
  {
   "cell_type": "markdown",
   "metadata": {},
   "source": [
    "### Exercise 5: Conjugate of a Complex Vector\n",
    "Compute the conjugate of the complex vector \n",
    "$ v = \\begin{bmatrix} 1 + i \\\\ 2 - 3i \\end{bmatrix} $."
   ]
  },
  {
   "cell_type": "code",
   "execution_count": 4,
   "metadata": {},
   "outputs": [
    {
     "name": "stdout",
     "output_type": "stream",
     "text": [
      "el conjugado de\n",
      " [[1.+1.j]\n",
      " [2.-3.j]] es:\n",
      " [[1.-1.j]\n",
      " [2.+3.j]]\n"
     ]
    }
   ],
   "source": [
    "import numpy as np\n",
    "\n",
    "v = np.array([[1+1j],[2-3j]])\n",
    "conjugado_v = np.conjugate(v)\n",
    "print(\"el conjugado de\\n\",v,\"es:\\n\",conjugado_v)"
   ]
  },
  {
   "cell_type": "markdown",
   "metadata": {},
   "source": [
    "### Exercise 6: Adjunct (Conjugate Transpose) of a Complex Vector\n",
    "Find the adjunct (or conjugate transpose) of the complex vector \n",
    "$ v = \\begin{bmatrix} 1 - 2i \\\\ 3 + i \\end{bmatrix} $.\n"
   ]
  },
  {
   "cell_type": "code",
   "execution_count": 5,
   "metadata": {},
   "outputs": [
    {
     "name": "stdout",
     "output_type": "stream",
     "text": [
      "El conjugado transpuesto de \n",
      " [[1.-2.j]\n",
      " [3.+1.j]] es:\n",
      " [[1.+2.j 3.-1.j]]\n"
     ]
    }
   ],
   "source": [
    "import numpy as np\n",
    "v = np.array([[1-2j],[3+1j]])\n",
    "adjunct_v = v.T.conj()\n",
    "print(\"El conjugado transpuesto de \\n\",v,\"es:\\n\",adjunct_v)"
   ]
  },
  {
   "cell_type": "markdown",
   "metadata": {},
   "source": [
    "Given two complex matrices \n",
    "$ m1 = \\begin{bmatrix} 1 + i & 2 - i \\\\ 3 + 2i & 4 \\end{bmatrix} $\n",
    "and \n",
    "$ m2 = \\begin{bmatrix} 2 - 3i & 1 \\\\ i & 2 + 2i \\end{bmatrix} $, \n",
    "calculate their sum."
   ]
  },
  {
   "cell_type": "code",
   "execution_count": 6,
   "metadata": {},
   "outputs": [
    {
     "name": "stdout",
     "output_type": "stream",
     "text": [
      "la suma de las matrices es\n",
      " [[3.-2.j 3.-1.j]\n",
      " [3.+3.j 6.+2.j]]\n"
     ]
    }
   ],
   "source": [
    "m1 = np.array([[1+1j,2-1j],[3+2j,4]])\n",
    "m2 = np.array([[2-3j,1],[1j,2+2j]])\n",
    "\n",
    "suma = m1 + m2\n",
    "print(\"la suma de las matrices es\\n\", suma)"
   ]
  },
  {
   "cell_type": "markdown",
   "metadata": {},
   "source": [
    "### Exercise 8: Negation of a Complex Matrix\n",
    "Find the negation of the complex matrix \n",
    "$ m = \\begin{bmatrix} 2 + i & 3 \\\\ 1 - i & 2 + 2i \\end{bmatrix} $."
   ]
  },
  {
   "cell_type": "code",
   "execution_count": 7,
   "metadata": {},
   "outputs": [
    {
     "name": "stdout",
     "output_type": "stream",
     "text": [
      "la negación de la matriz \n",
      "\n",
      " [[2.+1.j 3.+0.j]\n",
      " [1.-1.j 2.+2.j]] es\n",
      "\n",
      " [[-2.-1.j -3.-0.j]\n",
      " [-1.+1.j -2.-2.j]]\n"
     ]
    }
   ],
   "source": [
    "m1 = np.array([[2+1j,3],[1-1j,2+2j]])\n",
    "neg_m1 = -m1\n",
    "\n",
    "print(\"la negación de la matriz \\n\\n\",m1,\"es\\n\\n\",neg_m1)"
   ]
  },
  {
   "cell_type": "markdown",
   "metadata": {},
   "source": [
    "### Exercise 9: Multiplication of a Complex Matrix by a Scalar\n",
    "Multiply the complex matrix \n",
    "$ m = \\begin{bmatrix} 1 - i & 2 \\\\ 3 + i & 4 - 2i \\end{bmatrix} $ \n",
    "by the complex scalar $$ 2 + 3i $$.\n"
   ]
  },
  {
   "cell_type": "code",
   "execution_count": 8,
   "metadata": {},
   "outputs": [
    {
     "name": "stdout",
     "output_type": "stream",
     "text": [
      "La matriz \n",
      " [[1.-1.j 2.+0.j]\n",
      " [3.+1.j 4.-2.j]] multiplicada el escalar (2+3j)\n",
      "Da como resultado:\n",
      " [[ 5. +1.j  4. +6.j]\n",
      " [ 3.+11.j 14. +8.j]]\n"
     ]
    }
   ],
   "source": [
    "import numpy as np\n",
    "m = np.array([[1-1j,2],[3+1j,4-2j]])\n",
    "escalar = 2 + 3j\n",
    "mult_sc = m * escalar\n",
    "print(\"La matriz \\n\", m, \"multiplicada el escalar\",escalar)\n",
    "print(\"Da como resultado:\\n\",mult_sc)"
   ]
  },
  {
   "cell_type": "markdown",
   "metadata": {},
   "source": [
    "### Exercise 10: Conjugate of a Complex Matrix\n",
    "Compute the conjugate of the complex matrix \n",
    "$ m = \\begin{bmatrix} 1 + i & 2 \\\\ 3 - i & 4 + 2i \\end{bmatrix} $.\n"
   ]
  },
  {
   "cell_type": "code",
   "execution_count": 9,
   "metadata": {},
   "outputs": [
    {
     "name": "stdout",
     "output_type": "stream",
     "text": [
      "El conjugado de la matriz \n",
      "\n",
      " [[1.+1.j 2.+0.j]\n",
      " [3.-1.j 4.+2.j]] es\n",
      "\n",
      " [[1.-1.j 2.-0.j]\n",
      " [3.+1.j 4.-2.j]]\n"
     ]
    }
   ],
   "source": [
    "import numpy as np\n",
    "m = np.array([[1+1j,2],[3-1j,4+2j]])\n",
    "conj = np.conjugate(m)\n",
    "print(\"El conjugado de la matriz \\n\\n\", m,\"es\\n\\n\",conj)"
   ]
  },
  {
   "cell_type": "markdown",
   "metadata": {},
   "source": [
    "### Exercise 11: Transpose of a Complex Matrix\n",
    "Find the transpose of the complex matrix \n",
    "$ m = \\begin{bmatrix} 1 - i & 2 + 2i \\\\ 3 & 4 - i \\end{bmatrix} $.\n",
    "\n"
   ]
  },
  {
   "cell_type": "code",
   "execution_count": 10,
   "metadata": {},
   "outputs": [
    {
     "name": "stdout",
     "output_type": "stream",
     "text": [
      "la matriz transpuesta de \n",
      "\n",
      " [[1.-1.j 2.+2.j]\n",
      " [3.+0.j 4.-1.j]] es\n",
      "\n",
      " [[1.-1.j 3.+0.j]\n",
      " [2.+2.j 4.-1.j]]\n"
     ]
    }
   ],
   "source": [
    "import numpy as np\n",
    "m = np.array([[1-1j,2+2j],[3,4-1j]])\n",
    "transp = m.T\n",
    "print(\"la matriz transpuesta de \\n\\n\", m,\"es\\n\\n\",transp)"
   ]
  },
  {
   "cell_type": "markdown",
   "metadata": {},
   "source": [
    "### Exercise 12: Adjunct (Conjugate Transpose) of a Complex Matrix\n",
    "Calculate the adjunct (or conjugate transpose) of the complex matrix \n",
    "$ m = \\begin{bmatrix} 1 + 2i & 3 - i \\\\ 4 & 5 + i \\end{bmatrix} $."
   ]
  },
  {
   "cell_type": "code",
   "execution_count": 11,
   "metadata": {},
   "outputs": [
    {
     "name": "stdout",
     "output_type": "stream",
     "text": [
      "la matriz conjugada traspuesta de \n",
      "\n",
      " [[1.-1.j 2.+2.j]\n",
      " [3.+0.j 4.-1.j]]    es\n",
      "\n",
      " [[1.+1.j 3.-0.j]\n",
      " [2.-2.j 4.+1.j]]\n"
     ]
    }
   ],
   "source": [
    "import numpy as np\n",
    "m = np.array([[1-1j,2+2j],[3,4-1j]])\n",
    "adjunct_m = m.T.conj()\n",
    "print(\"la matriz conjugada traspuesta de \\n\\n\", m,\"   es\\n\\n\",adjunct_m)"
   ]
  },
  {
   "cell_type": "markdown",
   "metadata": {},
   "source": [
    "### Exercise 13: Checking the Dimensions of a Matrix\n",
    "Determine the dimensions of the complex matrix \n",
    "$ m = \\begin{bmatrix} 1 - i & 2 \\\\ 3 + 2i & 4 - i \\end{bmatrix} $."
   ]
  },
  {
   "cell_type": "code",
   "execution_count": 12,
   "metadata": {},
   "outputs": [
    {
     "name": "stdout",
     "output_type": "stream",
     "text": [
      "la dimensión de la matriz\n",
      " [[1.-1.j 2.+0.j]\n",
      " [3.+2.j 4.-1.j]]   es (2, 2)\n"
     ]
    }
   ],
   "source": [
    "m = np.array([[1-1j,2],[3+2j,4-1j]])\n",
    "\n",
    "print(\"la dimensión de la matriz\\n\",m,\"  es\",m.shape)"
   ]
  },
  {
   "cell_type": "markdown",
   "metadata": {},
   "source": [
    "### Exercise 14: Multiplying a Complex Square Matrix by a Complex Column Vector\n",
    "Multiply the complex square matrix \n",
    "$ m = \\begin{bmatrix} 1 + i & 2 - i \\\\ 3 & 4 + i \\end{bmatrix} $ \n",
    "by the complex column vector \n",
    "$ v = \\begin{bmatrix} 2 - i \\\\ 1 + 3i \\end{bmatrix} $.\n"
   ]
  },
  {
   "cell_type": "code",
   "execution_count": 13,
   "metadata": {},
   "outputs": [
    {
     "name": "stdout",
     "output_type": "stream",
     "text": [
      "La matriz\n",
      " [[1.+1.j 2.-1.j]\n",
      " [3.+0.j 4.+1.j]] \n",
      "multiplicada por el vector\n",
      " [[2.-1.j]\n",
      " [1.+3.j]]\n",
      "da como resultado\n",
      " [[8. +6.j]\n",
      " [7.+10.j]]\n"
     ]
    }
   ],
   "source": [
    "m = np.array([[1+1j,2-1j],[3,4+1j]])\n",
    "v = np.array([[2-1j],[1+3j]])\n",
    "accion = np.dot(m,v)\n",
    "print(\"La matriz\\n\",m,\"\\nmultiplicada por el vector\\n\",v)\n",
    "print(\"da como resultado\\n\",accion)"
   ]
  },
  {
   "cell_type": "code",
   "execution_count": null,
   "metadata": {},
   "outputs": [],
   "source": []
  }
 ],
 "metadata": {
  "kernelspec": {
   "display_name": ".venv",
   "language": "python",
   "name": "python3"
  },
  "language_info": {
   "codemirror_mode": {
    "name": "ipython",
    "version": 3
   },
   "file_extension": ".py",
   "mimetype": "text/x-python",
   "name": "python",
   "nbconvert_exporter": "python",
   "pygments_lexer": "ipython3",
   "version": "3.11.0"
  }
 },
 "nbformat": 4,
 "nbformat_minor": 2
}
